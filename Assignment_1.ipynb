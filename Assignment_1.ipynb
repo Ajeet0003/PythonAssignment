{
 "cells": [
  {
   "cell_type": "markdown",
   "id": "b99d3bf6",
   "metadata": {},
   "source": [
    "1\\. In the below elements which of them are values or an expression?\n",
    "eg:- values can be integer or string and expressions will be\n",
    "mathematical operators.\n",
    "\n",
    "\\*\n",
    "\n",
    "'hello'\n",
    "\n",
    "-87.8\n",
    "\n",
    "\\-\n",
    "\n",
    "/\n",
    "\n",
    "-   \n",
    "\n",
    "6\n",
    "\n",
    "2\\. What is the difference between string and variable?\n",
    "\n",
    "3\\. Describe three different data types.\n",
    "\n",
    "4\\. What is an expression made up of? What do all expressions do?\n",
    "\n",
    "5\\. This assignment statements, like spam = 10. What is the difference\n",
    "between an expression and a statement?\n",
    "\n",
    "6\\. After running the following code, what does the variable bacon\n",
    "contain?\n",
    "\n",
    "bacon = 22\n",
    "\n",
    "bacon + 1\n",
    "\n",
    "7\\. What should the values of the following two terms be?\n",
    "\n",
    "'spam' + 'spamspam'\n",
    "\n",
    "'spam' \\* 3\n",
    "\n",
    "8.Why is eggs a valid variable name while 100 is invalid?\n",
    "\n",
    "9\\. What three functions can be used to get the integer, floating-point\n",
    "number, or string version of a value?\n",
    "\n",
    "10\\. Why does this expression cause an error? How can you fix it?\n",
    "\n",
    "'I have eaten ' + 99 + ' burritos.'"
   ]
  },
  {
   "cell_type": "markdown",
   "id": "49fdb11b-d347-41ee-806d-bbcc2478bd39",
   "metadata": {},
   "source": [
    "Q1.   values=-87.8,6,'hello'\n",
    "      expressions=\\*,\\-,/,-"
   ]
  },
  {
   "cell_type": "markdown",
   "id": "26a0f29f-b9d5-46d4-944e-ed749debda35",
   "metadata": {},
   "source": [
    "Q2. What is the difference between string and variable?\n",
    "Variables are symbols that we can use to store data in a program. \n",
    "We can think of them as an empty box that we fill with some data or value.\n",
    "Strings are data, so we can use them to fill up a variable.\n",
    "Declaring strings as variables can make it easier for us to work with strings \n",
    "throughout our Python programs."
   ]
  },
  {
   "cell_type": "markdown",
   "id": "9c1e0c9b-84a3-4378-b836-75e8213c2a93",
   "metadata": {},
   "source": [
    "Q3. Describe three different data types.\n",
    "Variables can store data of different types, and different types can do different things.\n",
    "\n",
    "1.Text Type     :\tstr\n",
    "2.Numeric Types :\tint, float, complex\n",
    "3.Sequence Types:\tlist, tuple, range\n",
    "4.Mapping Type  :\tdict\n",
    "5.Set Types     :\tset, frozenset\n",
    "6.Boolean Type  :\tbool\n",
    "7.Binary Types  :\tbytes, bytearray, memoryview\n",
    "8.None Type     :\tNoneType\n",
    "\n",
    "Example\t            Data Type\t\n",
    "x = \"Hello World\"\tstr\t\n",
    "x = 20\t            int\t\n",
    "x = 20.5\t        float\t\n",
    "x = 1j\t            complex\t\n",
    "x =[\"apple\", \"banana\", \"cherry\"]\tlist\t\n",
    "x = (\"apple\", \"banana\", \"cherry\")\ttuple\t\n",
    "x = range(6)\trange\t\n",
    "x = {\"name\" : \"John\", \"age\" : 36}\tdict\t\n",
    "x = {\"apple\", \"banana\", \"cherry\"}\tset\t\n",
    "x = frozenset({\"apple\", \"banana\", \"cherry\"})\tfrozenset\t\n",
    "x = True\t         bool\t\n",
    "x = b\"Hello\"\t     bytes\t\n",
    "x = bytearray(5)\t bytearray\t\n",
    "x = memoryview(bytes(5))\tmemoryview\t\n",
    "x = None\t         NoneType\n",
    "\n",
    "List Items\n",
    "List items are ordered, changeable, and allow duplicate values.\n",
    "thislist = [\"apple\", \"banana\", \"cherry\", \"apple\", \"cherry\"]\n",
    "\n",
    "Tuple Items\n",
    "Tuple items are ordered, unchangeable, and allow duplicate values.\n",
    "thistuple = (\"apple\", \"banana\", \"cherry\", \"apple\", \"cherry\")\n",
    "\n",
    "Set\n",
    "A set is a collection which is unordered, unchangeable*, and unindexed.\n",
    "thisset = {\"apple\", \"banana\", \"cherry\"}\n",
    "\n",
    "Dictionary Items\n",
    "Dictionary items are ordered, changeable, and does not allow duplicates.\n",
    "Dictionary items are presented in key:value pairs, and can be referred to by using the key name.\n",
    "thisdict = {\n",
    "  \"brand\": \"Ford\",\n",
    "  \"model\": \"Mustang\",\n",
    "  \"year\": 1964\n",
    "}"
   ]
  },
  {
   "cell_type": "markdown",
   "id": "f3e19f56-ffd8-4dbf-8972-a321639fa914",
   "metadata": {},
   "source": [
    "Q4. What is an expression made up of? What do all expressions do?\n",
    "An expression is a combination of operators and operands that is interpreted to produce some other value. In any programming language, an expression is evaluated as per the precedence of its operators."
   ]
  },
  {
   "cell_type": "markdown",
   "id": "d54be041-52ef-4f63-9e96-adb738926851",
   "metadata": {},
   "source": [
    "5.This assignment statements, like spam = 10. What is the difference between an expression and a statement?\n",
    "An expression can be defined as any element in our utility that evaluates some values. An expression evaluates a value.\n",
    "\n",
    "Statements represent a motion or command e.g print statements, mission statements. Expressions need to be evaluated.\n",
    "\n",
    "An expression is any series of symbols that represents a value. For example, 2.9, a + 5, (3 + 5) / 4.\n",
    "\n",
    "For example: print(\"Hello\")"
   ]
  },
  {
   "cell_type": "markdown",
   "id": "96514dcd-6108-4041-b667-bc5a620c0679",
   "metadata": {},
   "source": [
    "Q6. After running the following code, what does the variable bacon contain?\n",
    "\n",
    "bacon = 22\n",
    "bacon + 1\n",
    "Ans. 22\n"
   ]
  },
  {
   "cell_type": "markdown",
   "id": "526220e3-4525-4b7e-9616-d8b51954d5fc",
   "metadata": {},
   "source": [
    "Q7. What should the values of the following two terms be?\n",
    "\n",
    "'spam' + 'spamspam'\n",
    "\n",
    "'spam' * 3\n",
    "Ans.spamspamspam"
   ]
  },
  {
   "cell_type": "markdown",
   "id": "1266fa12-727c-4bd4-a17c-7c6f0b8db513",
   "metadata": {},
   "source": [
    "Q8.Why is eggs a valid variable name while 100 is invalid?\n",
    "Ans. because varible cannot start with number and other special charcter\n",
    " it only be start with letter or  underscore\n"
   ]
  },
  {
   "cell_type": "markdown",
   "id": "4aab71e8-07cc-4f6c-9e6e-fc72fe7805f9",
   "metadata": {},
   "source": [
    "Q9. What three functions can be used to get the integer, floating-point\n",
    "number, or string version of a value?\n",
    "Ans. int()\n",
    "    float()\n",
    "    str()\n"
   ]
  },
  {
   "cell_type": "markdown",
   "id": "d6d8d8ab-48ce-4ece-aa4c-a11ce135b7d4",
   "metadata": {},
   "source": [
    "Q10. Why does this expression cause an error? How can you fix it?\n",
    "\n",
    "'I have eaten ' + 99 + ' burritos.'\n",
    "Ans. 1.print(f\"I have eaten  {99 } burritos.\")\n",
    "     2.print(\"I have eaten\", 99,\"burritos.\")"
   ]
  },
  {
   "cell_type": "code",
   "execution_count": null,
   "id": "aa87d06c-8f45-4be6-bb5a-381fe8971b9d",
   "metadata": {},
   "outputs": [],
   "source": []
  }
 ],
 "metadata": {
  "kernelspec": {
   "display_name": "Python 3 (ipykernel)",
   "language": "python",
   "name": "python3"
  },
  "language_info": {
   "codemirror_mode": {
    "name": "ipython",
    "version": 3
   },
   "file_extension": ".py",
   "mimetype": "text/x-python",
   "name": "python",
   "nbconvert_exporter": "python",
   "pygments_lexer": "ipython3",
   "version": "3.10.6"
  }
 },
 "nbformat": 4,
 "nbformat_minor": 5
}
